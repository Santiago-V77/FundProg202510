{
  "nbformat": 4,
  "nbformat_minor": 0,
  "metadata": {
    "colab": {
      "provenance": [],
      "include_colab_link": true
    },
    "kernelspec": {
      "name": "python3",
      "display_name": "Python 3"
    },
    "language_info": {
      "name": "python"
    }
  },
  "cells": [
    {
      "cell_type": "markdown",
      "metadata": {
        "id": "view-in-github",
        "colab_type": "text"
      },
      "source": [
        "<a href=\"https://colab.research.google.com/github/Santiago-V77/FundProg202510/blob/main/%E2%80%9CTarea_Pseudoc%C3%B3digo.ipynb\" target=\"_parent\"><img src=\"https://colab.research.google.com/assets/colab-badge.svg\" alt=\"Open In Colab\"/></a>"
      ]
    },
    {
      "cell_type": "markdown",
      "source": [
        "#Tarea #2\n",
        "Nombre: Santiago Villarreal Mendivil<BR>\n",
        "ID: 000577548<BR>\n",
        "Email: santiago.villarreal@upb.edu.co<BR>\n",
        "Fecha: 24/02/2025<BR>\n",
        "\n"
      ],
      "metadata": {
        "id": "XcFMQ-MB89xA"
      }
    },
    {
      "cell_type": "markdown",
      "source": [
        "##problema 1\n",
        "\n",
        "```\n",
        "PROGRAM RESISTANCE\n",
        "START\n",
        "  DECLARE REAL res1, res2, res3\n",
        "  DECLARE REAl req\n",
        "  DISPLAY \"Enter resistance 1\"\n",
        "  INPUT res1\n",
        "  DISPLAY \"Enter resistance 2\"\n",
        "  INPUT res2\n",
        "  DISPLAY \"Enter resistance 3\"\n",
        "  INPUT res3\n",
        "  \n",
        "  SET req = 1 / ((1 / res1) + (1 / res2) + (1 / res3))\n",
        "  DISPLAY \"The resistance is:\", req, \"ohms\"\n",
        "END\n",
        "\n",
        "```"
      ],
      "metadata": {
        "id": "N1P8d4Qi9xod"
      }
    },
    {
      "cell_type": "code",
      "execution_count": null,
      "metadata": {
        "id": "OV9cEpjD8wWP",
        "colab": {
          "base_uri": "https://localhost:8080/"
        },
        "outputId": "737cdb08-2e50-4941-c98c-cbeef18b78a5"
      },
      "outputs": [
        {
          "output_type": "stream",
          "name": "stdout",
          "text": [
            "Enter resistance 1: 30\n",
            "Enter resistance 2: 23\n",
            "Enter resistance 3: 15\n",
            "Enter resistance 4: 17\n",
            "The equivalent resistance is: 4.943109987357775 ohms\n"
          ]
        }
      ],
      "source": [
        "r1 = float(input(\"Enter resistance 1: \"))\n",
        "r2 = float(input(\"Enter resistance 2: \"))\n",
        "r3 = float(input(\"Enter resistance 3: \"))\n",
        "r4 = float(input(\"Enter resistance 4: \"))\n",
        "\n",
        "req = 1 / ((1 / r1) + (1 / r2) + (1 / r3) + (1 / r4))\n",
        "\n",
        "print(\"The equivalent resistance is:\", req, \"ohms\")\n",
        "\n",
        "\n"
      ]
    },
    {
      "cell_type": "markdown",
      "source": [
        "##algoritmo\n",
        "\n",
        "Iniciar el programa.<br>\n",
        "Declarar cuatro variables para las resistencias (res1, res2, res3, res4).<br>\n",
        "Declarar una variable para la resistencia equivalente (req).<br>\n",
        "Pedir al usuario que ingrese los valores de res1, res2, res3 y res4.<br>\n",
        "Calcular la resistencia equivalente usando la fórmula.<r>\n",
        "Mostrar el resultado en ohmios.<br>\n",
        "Finalizar el programa.\n",
        "\n",
        "\n",
        "\n"
      ],
      "metadata": {
        "id": "X-EkyjWN_Sjf"
      }
    },
    {
      "cell_type": "markdown",
      "source": [
        "##problema 2\n",
        "```\n",
        "PROGRAM POWER\n",
        "START\n",
        "  DECLARE REAL resistance\n",
        "  DECLARE REAL current\n",
        "  DECLARE REAL power\n",
        "  DISPLAY \"Enter the resistance (ohms):\"\n",
        "  INPUT resistance\n",
        "  DISPLAY \"Enter the current (amperes):\"\n",
        "  INPUT current\n",
        "  SET power = (current * current) * resistance\n",
        "  DISPLAY \"The dissipated power is:\", power, \"watts\"\n",
        "END\n",
        "```"
      ],
      "metadata": {
        "id": "JZHZ34JgY3r4"
      }
    },
    {
      "cell_type": "code",
      "source": [
        "resistance = float(input(\"Enter the resistance (ohms): \"))\n",
        "current = float(input(\"Enter the current (amperes): \"))\n",
        "\n",
        "power = (current ** 2) * resistance\n",
        "\n",
        "print(\"The dissipated power is:\", power, \"watts\")\n"
      ],
      "metadata": {
        "colab": {
          "base_uri": "https://localhost:8080/"
        },
        "id": "Rm0jMULZZLag",
        "outputId": "fb002935-ce37-4da7-e94d-2a05946991c6"
      },
      "execution_count": null,
      "outputs": [
        {
          "output_type": "stream",
          "name": "stdout",
          "text": [
            "Enter the resistance (ohms): 20\n",
            "Enter the current (amperes): 30\n",
            "The dissipated power is: 18000.0 watts\n"
          ]
        }
      ]
    },
    {
      "cell_type": "markdown",
      "source": [
        "##algoritmo\n",
        "\n",
        "Iniciar el programa.<br>\n",
        "Declarar una variable para la resistencia (R).<br>\n",
        "Declarar una variable para la corriente (I).<br>\n",
        "Declarar una variable para la potencia disipada (P).<br>\n",
        "Pedir al usuario que ingrese el valor de la resistencia (R).<br>\n",
        "Pedir al usuario que ingrese el valor de la corriente (I).<br>\n",
        "Calcular la potencia disipada usando la fórmula.<br>\n",
        "Mostrar el resultado en vatios.<br>\n",
        "Finalizar el programa."
      ],
      "metadata": {
        "id": "E3W-q3Dmdc2s"
      }
    },
    {
      "cell_type": "markdown",
      "source": [
        "##problema 3\n",
        "\n",
        "```\n",
        "PROGRAM ELECTRICAL POWER IN A RESISTOR\n",
        "START\n",
        "\n",
        "  DECLARE REAL voltage\n",
        "  DECLARE REAL resistance\n",
        "  DECLARE REAL current\n",
        "  DISPLAY \"Enter the voltage (volts)\"\n",
        "  INPUT voltage  \n",
        "  DISPLAY \"Enter the resistance (ohms)\"\n",
        "  INPUT resistance  \n",
        "  SET current = voltage / resistance\n",
        "  DISPLAY current, \"amperes\"  \n",
        "\n",
        "END\n",
        "```"
      ],
      "metadata": {
        "id": "yU91bVoGK8KR"
      }
    },
    {
      "cell_type": "markdown",
      "source": [
        "##algoritmo\n",
        "Iniciar<br>\n",
        "Declarar la variable volt (voltaje en voltios)<br>\n",
        "Declarar la variable res (resistencia en ohmios)<br>\n",
        "Declarar la variable curr (corriente en amperios)<br>\n",
        "Mostrar \"Enter the voltage (volts)\"<br>\n",
        "Leer volt<br>\n",
        "Mostrar \"Enter the resistance (ohms)\"\n",
        "Leer res<br>\n",
        "Calcular curr = volt / res<br>\n",
        "Mostrar curr, \"amperes\"<br>\n",
        "Finalizar"
      ],
      "metadata": {
        "id": "jdPwVyipM1L7"
      }
    },
    {
      "cell_type": "code",
      "source": [
        "v = float(input(\"Enter the voltage (volts): \"))\n",
        "r = float(input(\"Enter the resistance (ohms): \"))\n",
        "\n",
        "i = v / r\n",
        "\n",
        "print(i, \"amperes\")\n"
      ],
      "metadata": {
        "colab": {
          "base_uri": "https://localhost:8080/"
        },
        "id": "qGDJ-v6UND10",
        "outputId": "5de8f631-b313-40c8-dced-9ec5431f3715"
      },
      "execution_count": null,
      "outputs": [
        {
          "output_type": "stream",
          "name": "stdout",
          "text": [
            "Enter the voltage (volts): 9\n",
            "Enter the resistance (ohms): 12\n",
            "0.75 amperes\n"
          ]
        }
      ]
    },
    {
      "cell_type": "markdown",
      "source": [
        "##problema 4\n",
        "```\n",
        "PROGRAM CAPACITOR\n",
        "START\n",
        "\n",
        "  DECLARE REAL res\n",
        "  DECLARE REAL cap\n",
        "  DECLARE REAL time\n",
        "  DISPLAY \"Enter the resistance (ohms)\"\n",
        "  INPUT res\n",
        "  DISPLAY \"Enter the capacitance (farads)\"\n",
        "  INPUT cap\n",
        "  SET time = res * cap\n",
        "  DISPLAY time, \"seconds\"\n",
        "\n",
        "END\n",
        "```"
      ],
      "metadata": {
        "id": "9mYeD9I0NL61"
      }
    },
    {
      "cell_type": "code",
      "source": [
        "r = float(input(\"Enter the resistance (ohms): \"))\n",
        "c = float(input(\"Enter the capacitance (farads): \"))\n",
        "t = r * c\n",
        "print(\"The time constant is:\", t, \"seconds\")\n"
      ],
      "metadata": {
        "colab": {
          "base_uri": "https://localhost:8080/"
        },
        "id": "nvEoTjCoONZT",
        "outputId": "c7a2262c-b390-4cd2-c1de-58bc963eb3eb"
      },
      "execution_count": null,
      "outputs": [
        {
          "output_type": "stream",
          "name": "stdout",
          "text": [
            "Enter the resistance (ohms): 20\n",
            "Enter the capacitance (farads): 10\n",
            "The time constant is: 200.0 seconds\n"
          ]
        }
      ]
    },
    {
      "cell_type": "markdown",
      "source": [
        "##algoritmo\n",
        "Iniciar<br>\n",
        "Declarar la variable res (resistencia en ohmios)<br>\n",
        "Declarar la variable cap (capacitancia en faradios)<br>\n",
        "Declarar la variable time (constante de tiempo en segundos)<br>\n",
        "Mostrar \"Enter the resistance (ohms)\"<br>\n",
        "Leer r<br>\n",
        "Mostrar \"Enter the capacitance (farads)\"<br>\n",
        "Leer c<br>\n",
        "Calcular t = r * c<br>\n",
        "Mostrar t, \"seconds\"<br>\n",
        "Finalizar"
      ],
      "metadata": {
        "id": "Im2LBHNYN9KE"
      }
    },
    {
      "cell_type": "markdown",
      "source": [
        "#problema 5\n",
        "\n",
        "```\n",
        "PROGRAM POWER_CONSUMED\n",
        "START  \n",
        "\n",
        "  DECLARE REAL energy_total  \n",
        "  DECLARE REAL power_1, power_2, power_3, power_4, power_5  \n",
        "\n",
        "  DISPLAY \"Enter the power consumption for hour 1\"  \n",
        "  INPUT power_1  \n",
        "  DISPLAY \"Enter the power consumption for hour 2\"  \n",
        "  INPUT power_2  \n",
        "  DISPLAY \"Enter the power consumption for hour 3\"  \n",
        "  INPUT power_3  \n",
        "  DISPLAY \"Enter the power consumption for hour 4\"  \n",
        "  INPUT power_4  \n",
        "  DISPLAY \"Enter the power consumption for hour 5\"  \n",
        "  INPUT power_5  \n",
        "\n",
        "  SET energy_total = power_1 + power_2 + power_3 + power_4 + power_5  \n",
        "\n",
        "  DISPLAY \"Total energy consumption:\", energy_total, \"kWh\"  \n",
        "\n",
        "END  \n"
      ],
      "metadata": {
        "id": "4nIg_gEoOS1k"
      }
    },
    {
      "cell_type": "code",
      "source": [
        "power_1 = float(input(\"Enter the power consumption for hour 1 (kWh): \"))\n",
        "power_2 = float(input(\"Enter the power consumption for hour 2 (kWh): \"))\n",
        "power_3 = float(input(\"Enter the power consumption for hour 3 (kWh): \"))\n",
        "power_4 = float(input(\"Enter the power consumption for hour 4 (kWh): \"))\n",
        "power_5 = float(input(\"Enter the power consumption for hour 5 (kWh): \"))\n",
        "\n",
        "energy_total = power_1 + power_2 + power_3 + power_4 + power_5\n",
        "\n",
        "print(\"Total energy consumption:\", energy_total, \"kWh\")"
      ],
      "metadata": {
        "colab": {
          "base_uri": "https://localhost:8080/"
        },
        "id": "_wN3sK0IPMI5",
        "outputId": "ebe0dcc0-3c4a-4e9c-9c2b-c1a98a425f1b"
      },
      "execution_count": null,
      "outputs": [
        {
          "output_type": "stream",
          "name": "stdout",
          "text": [
            "Enter the power consumption for hour 1 (kWh): 50\n",
            "Enter the power consumption for hour 2 (kWh): 65\n",
            "Enter the power consumption for hour 3 (kWh): 70\n",
            "Enter the power consumption for hour 4 (kWh): 35\n",
            "Enter the power consumption for hour 5 (kWh): 55\n",
            "Total energy consumption: 275.0 kWh\n"
          ]
        }
      ]
    },
    {
      "cell_type": "markdown",
      "source": [
        "##algoritmo\n",
        "Declarar una variable energy_total.<br>\n",
        "Declarar cinco variables (power_1, power_2, power_3, power_4, power_5) para almacenar el consumo de energía en cada hora.<br>\n",
        "Solicitar al usuario el consumo de energía en cada una de las cinco horas.<br>\n",
        "Calcular la energía total sumando los cinco valores de consumo.<br>\n",
        "Mostrar el total de energía consumida en kWh."
      ],
      "metadata": {
        "id": "cpLFChPXPBGH"
      }
    }
  ]
}